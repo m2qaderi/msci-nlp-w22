{
  "nbformat": 4,
  "nbformat_minor": 0,
  "metadata": {
    "colab": {
      "name": "Assignment1.ipynb",
      "provenance": [],
      "collapsed_sections": [],
      "authorship_tag": "ABX9TyN654Avh8Byv+DglvN5S8Fy",
      "include_colab_link": true
    },
    "kernelspec": {
      "name": "python3",
      "display_name": "Python 3"
    },
    "language_info": {
      "name": "python"
    }
  },
  "cells": [
    {
      "cell_type": "markdown",
      "metadata": {
        "id": "view-in-github",
        "colab_type": "text"
      },
      "source": [
        "<a href=\"https://colab.research.google.com/github/m2qaderi/msci-nlp-w22/blob/master/Assignment1.ipynb\" target=\"_parent\"><img src=\"https://colab.research.google.com/assets/colab-badge.svg\" alt=\"Open In Colab\"/></a>"
      ]
    },
    {
      "cell_type": "code",
      "source": [
        "from google.colab import drive\n",
        "\n",
        "drive.mount(\"/content/gdrive\")"
      ],
      "metadata": {
        "colab": {
          "base_uri": "https://localhost:8080/"
        },
        "id": "1fZYzO_UYVPf",
        "outputId": "af9e38b1-eb0c-4160-c811-b0303fdf36fe"
      },
      "execution_count": 80,
      "outputs": [
        {
          "output_type": "stream",
          "name": "stdout",
          "text": [
            "Drive already mounted at /content/gdrive; to attempt to forcibly remount, call drive.mount(\"/content/gdrive\", force_remount=True).\n"
          ]
        }
      ]
    },
    {
      "cell_type": "code",
      "source": [
        "import gensim as gensim\n",
        "import keras as keras\n",
        "import numpy as numpy\n",
        "import sklearn as sklearn\n",
        "import pandas as pd\n",
        "import re"
      ],
      "metadata": {
        "id": "vqvNIs0BLmqm"
      },
      "execution_count": 113,
      "outputs": []
    },
    {
      "cell_type": "code",
      "source": [
        "with open(\"/content/gdrive/MyDrive/neg.txt\") as f: \n",
        "  text = f.read()"
      ],
      "metadata": {
        "id": "akEW5x3OipL0"
      },
      "execution_count": 137,
      "outputs": []
    },
    {
      "cell_type": "code",
      "source": [
        "x = text.split(\" \")"
      ],
      "metadata": {
        "id": "yalPpsRli0VY"
      },
      "execution_count": 115,
      "outputs": []
    },
    {
      "cell_type": "code",
      "source": [
        "#print(text.split())"
      ],
      "metadata": {
        "id": "zLLPoPaeV7VX"
      },
      "execution_count": 109,
      "outputs": []
    },
    {
      "cell_type": "code",
      "source": [
        "# Removing special characters and splitting into tokens (by word)\n",
        "\n",
        "new_string = re.sub('[!\"#$%&()*+/:;<=>@[\\\\]^`{|}~\\t\\n]', '', text)\n",
        "x = new_string.replace(\".\", \". \")\n",
        "final = x.lower()\n",
        "\n",
        "print(final.split(\" \")[0:1000])"
      ],
      "metadata": {
        "colab": {
          "base_uri": "https://localhost:8080/"
        },
        "id": "RrHg7qdHU8Bj",
        "outputId": "996cf48e-a2ad-4a85-bba3-0b1486d294f7"
      },
      "execution_count": 149,
      "outputs": [
        {
          "output_type": "stream",
          "name": "stdout",
          "text": [
            "['i', 'bought', 'this', 'when', 'i', 'bought', 'the', 'pop', 'maker.', 'as', 'for', 'pop', 'embellishing', 'well,', 'that', \"wasn't\", 'too', 'hard', 'to', 'figure', 'out,', 'either.', \"i'd\", 'save', 'the', 'money', 'and', 'spend', 'it', 'instead', 'on', 'extra', 'pop', 'sticks,', 'which', 'seem', 'to', 'disappear', 'the', 'way', 'socks', 'do.', \"didn't\", 'really', 'care', 'many', 'of', 'the', 'cakes', 'at', 'all.', 'not', 'up', 'to', 'normal', 'standing', 'for', 'wilton', 'yearbooks', 'of', 'the', 'past.', 'buy', 'a', 'wilton', 'magazine', 'for', 'less', 'money', 'and', 'get', 'more', 'ideas', 'and', 'instructions', 'for', 'your', 'investment.', 'bag', 'tore', 'with', 'almost', 'nothing', 'in', 'it', '-', 'just', 'caught', 'the', 'corner', 'of', 'a', 'small', 'cracker', 'box', 'and', 'that', 'was', 'that.', 'this', 'machine', 'is', 'exactly', 'what', 'the', 'name', 'says', 'it', 'is', '-', 'a', 'speller.', 'i', 'wanted', 'definitions,', 'oh,', 'that', 'would', 'be', 'a', 'dictionary', 'i', 'ordered', 'a', 'dictionary', 'an', 'i', 'am', 'happy', '-', 'except', 'the', 'voice', 'is', 'scratchy.', 'if', 'you', 'type', 'the', 'wrong', 'word', 'in,', 'it', '34might34', 'produce', 'the', 'correct', 'word.', 'it', \"doesn't\", 'give', 'any', 'explanation', 'of', 'the', 'meaning', 'or', 'how', 'it', 'can', 'be', 'used.', 'i', 'should', 'have', 'sent', 'it', 'bk.', ',', 'but', 'i', 'factored', 'in', 'the', 'cost', 'of', 'return', 'shipping', '-', \"wasn't\", 'worth', 'the', 'return.', \"it's\", 'basically', 'just', 'a', 'coat', 'hanger', 'with', 'two', 'plastic', 'guides.', 'the', 'only', 'thing', 'it', 'has', 'going', 'for', 'it', 'is', 'portability.', 'it', 'can', 'only', 'hold', 'regular', 'sized', 'hard', 'covered', 'books.', 'forget', 'about', 'any', 'size', 'paperback,', 'it', 'will', 'not', 'work.', 'even', 'hard', 'cover', 'books', 'are', 'nearly', 'impossible', 'to', 'align', 'correctly', 'and', 'they', 'slip', 'and', 'slump', 'in', 'all', 'kinds', 'of', 'odd', 'positions.', 'i', 'tried', 'with', 'over', '10', 'textbooks', 'and', 'it', \"didn't\", 'do', 'well', 'with', 'any', 'of', 'them.', 'for', 'home', 'reading', \"i'm\", 'going', 'to', 'buy', 'and', 'suggest', 'you', 'buy', 'a', 'more', 'substantial', 'stand.', 'the', 'quality', 'of', 'the', 'product', 'is', 'low,', 'the', 'paint', 'is', 'uneven', 'and', 'the', 'bottom', 'of', 'the', 'cup', 'is', 'cheeped.', 'neither', 'of', 'them', 'are', 'true', '34teaspoon34', 'size', 'spoons.', 'the', 'flatware', 'is', 'very', 'thin', 'so', 'the', 'knife', 'really', 'has', 'no', 'cutting', 'power', 'even', 'for', 'a', 'butter', 'knife', 'behind', 'it.', 'however,', 'for', 'the', 'price', 'i', 'paid,', 'i', \"can't\", 'expect', 'anything', 'else.', 'they', 'are', 'pretty', 'stylish', 'at', 'a', 'glance', 'but', 'if', \"you're\", 'looking', 'to', 'do', 'anything', 'that', 'requires', 'a', 'durable', 'utensil,', 'this', \"isn't\", 'the', 'one', 'you', 'want.', 'also', 'look', 'carefully', 'at', 'the', 'fork', 'and', 'knife,', 'they', 'are', 'shaped', 'quite', 'differently', 'than', 'a', 'regular', 'set.', 'the', 'fork', 'also', 'bends', 'pretty', 'easily', 'which', 'is', 'not', 'good', 'when', 'trying', 'to', 'eat', 'a', 'steak.', 'the', 'spoons', 'are', 'also', 'very', 'disproportionate', 'if', 'you', 'look', 'at', 'the', 'little', 'spoon', 'it', 'is', 'way', 'smaller', 'than', 'it', 'appears', 'in', 'the', 'picture.', 'i', 'hate', 'to', 'say', 'it', 'but', 'i', 'was', 'not', 'impressed', 'with', 'ikea', 'in', 'this', 'case.', 'i', 'had', 'to', 'buy', 'a', 'whole', 'new', 'set', 'to', 'replace', 'this', 'one.', 'while', 'this', 'is', 'a', 'cute', 'tin', 'box', 'and', 'i', 'used', 'it', 'to', 'hold', 'mini-muffins', 'at', 'at', 'baby', 'shower,', 'it', \"isn't\", 'meant', 'to', 'be', 'used.', 'would', 'look', 'cute', 'as', 'a', 'decoration', 'in', 'a', \"baby's\", 'room', 'or', 'to', 'hold', 'all', 'those', \"crayon's\", 'for', 'an', 'older', 'child.', 'tried', 'onions,', 'tomatoes,', 'celery,', 'olives,', 'nuts,', 'and', 'many', 'other', 'items.', '', '', 'tried', '2,', '4,', 'and', '8-oz', 'loads.', 'but', 'who', 'needs', 'that?this', 'will', 'be', 'the', 'last', 'cuisinart', 'product', \"i'll\", 'buy', 'their', 'griddler,', 'blender,', 'and', 'ice', 'cream', 'maker', 'are', 'poorly', 'engineered', 'too.', 'this', 'is', 'okay', 'for', 'chopping', 'cilantro,', 'but', 'does', 'not', 'puree', 'very', 'well.', 'i', 'my', 'mind', 'it', 'does', 'not', 'live', 'up', 'to', 'the', 'cuisinart', 'name.', 'my', 'original', 'mini', 'prep', 'had', 'a', 'sharp', 'blade,', 'not', 'a', 'serrated', 'blade.', 'i', 'got', 'years', 'of', 'use', 'out', 'of', 'it,', 'and', 'i', \"wouldn't\", 'have', 'replaced', 'it', 'but', 'my', 'husband', 'mistakenly', 'through', 'the', 'lid', 'out', 'in', 'the', 'trash.', 'this', 'one', 'is', 'only', 'so', 'so,', 'and', 'food', 'gets', 'caught', 'in', 'the', 'teeth', 'of', 'the', 'serrated', 'blade.', 'this', 'was', 'a', 'replacement', 'for', 'a', 'krupps', 'processor', 'and', 'i', 'only', 'used', 'it', '3', 'times.', 'i', 'had', 'to', 'buy', 'a', 'phillips', 'to', 'replace', 'it.', \"it's\", 'so', 'small', 'of', 'course', 'and', \"it's\", 'really', 'only', 'good', 'for', 'nuts.', 'i', 'have', 'black', '', 'decker', 'that', 'does', 'a', 'better', 'job.', 'my', 'big', 'cuisinart', 'broke', 'so', 'i', 'thought', 'for', 'a', 'small', 'size', 'it', 'would', 'be', 'good.', 'did', 'not', 'even', 'crush', 'wet', 'beans', 'or', 'move', 'it', 'to', 'the', 'top', 'as', 'said.', 'it', 'was', 'to', 'late', 'for', 'me', 'to', 'return', 'it.', 'this', 'is', 'my', 'very', 'first', 'mini', 'processor,', 'i', 'was', 'so', 'excited', 'to', 'get', 'it', 'for', 'making', 'baby', 'puree.', 'its', 'a', 'good', 'size', 'for', 'that', 'purpose,small', 'enough', 'i', 'can', 'leave', 'it', 'on', 'the', 'counter', 'top.', 'however,', 'i', 'am', 'disappointed', 'after', 'my', 'first', 'try.', 'i', 'dont', 'know', 'what', 'im', 'doing', 'wrong,', 'if', 'anyone', 'has', 'any', 'suggestions', '-', 'feel', 'free', 'to', 'help', 'me', 'out.', 'well,', 'it', 'worked', 'for', '10', 'seconds', 'and', 'then', 'died.', 'the', 'blade', 'mechanism', 'on', 'this', 'chopper', 'is', 'extremely', 'difficult', 'to', 'remove', 'or', 'adjust.', 'i', \"can't\", 'imagine', 'how', 'someone', 'with', 'large', 'fingers', 'would', 'manage.', \"there's\", 'nothing', 'i', 'can', 'do', 'in', 'this', 'thing', 'that', 'i', \"can't\", 'do', 'better', 'and', 'more', 'easily', 'with', 'my', 'hand-held', 'blender.', 'save', 'your', 'money', 'and', 'your', 'fingers', '', 'steer', 'clear', 'of', 'this', 'thing.', 'i', 'bought', 'both', 'and', 'the', 'cusinart', 'turned', 'an', 'onion', 'into', 'mush.', 'when', 'i', 'tried', 'to', 'just', 'pulse', 'it', 'the', 'pieces', 'were', 'very', 'inconsistant,', 'so', 'i', 'pulsed', 'a', 'littlemore', 'and', 'it', 'turned', 'it', 'to', 'mush.', 'i', 'had', 'to', 'chop', 'garlic', 'the', 'ninja', 'chopped', 'it', 'up', 'perfectly.', 'its', 'more', 'money', 'than', 'the', 'mini', 'cusinart', 'but', 'its', 'a', 'muchbetter', 'unit.', 'this', 'thing', 'will', 'likely', 'liquify', 'them', 'too.', '.', '.', '.', 'not', 'a', 'great', 'product.', 'i', 'got', 'one', 'about', '2', 'or', '3', 'weeks', 'ago', 'and', \"i'm\", 'sending', 'it', 'back.', 'i', 'have', 'put', 'no', 'more', 'than', '12', 'cup', 'at', 'a', 'time,', 'of', 'nuts,', 'pieces', 'of', 'cut', 'up', 'carrots,', 'etc.', 'i', 'had', 'read', 'a', 'review,', 'that', 'said', 'the', 'cuisinart', 'was', 'as', 'good', 'as', 'the', 'kitchenaid', 'mini.', 'it', 'leaked', 'out', 'in', 'drops', 'thrown', 'all', 'around', 'the', 'processor', 'on', 'the', 'counter.', 'and', 'yes', 'the', 'top', 'was', 'on', 'correctly', 'and', 'the', 'chopping', 'blade', 'was', 'on', 'properly.', 'so', 'when', 'you', 'read', 'a', 'review', 'that', 'sounds', 'like', 'a', 'paid', 'ad', 'for', 'the', 'product.', 'which', 'was', 'not', 'disclosed', 'on', 'the', 'technical', 'information.', 'unwilling', 'to', 'give', 'up', 'in', 'spite', 'of', 'failed', 'attempts,', 'i', 'added', 'my', 'berries,', 'and', 'applesauce.', 'the', 'wide', 'shortened', 'new', 'shape']\n"
          ]
        }
      ]
    },
    {
      "cell_type": "code",
      "source": [
        "# Removing special characters\n",
        "new_string = re.sub('[!\"#$%&()*+/:;<=>@[\\\\]^`{|}~\\t\\n]', '', text)\n",
        "print(new_string[0:100])"
      ],
      "metadata": {
        "colab": {
          "base_uri": "https://localhost:8080/"
        },
        "id": "deTIKTNko7LW",
        "outputId": "f546a2db-b8b2-4dea-d89f-ff961ced15c7"
      },
      "execution_count": 126,
      "outputs": [
        {
          "output_type": "stream",
          "name": "stdout",
          "text": [
            "I bought this when I bought the pop maker.As for pop embellishing well, that wasn't too hard to figu\n"
          ]
        }
      ]
    },
    {
      "cell_type": "code",
      "source": [
        "# Removing stopwords\n",
        "from gensim.parsing.preprocessing import remove_stopwords\n",
        "\n",
        "filtered_sentence = remove_stopwords(final[0:2000])\n",
        "\n",
        "print(filtered_sentence.split(\" \"))"
      ],
      "metadata": {
        "colab": {
          "base_uri": "https://localhost:8080/"
        },
        "id": "mJva5SBVovdc",
        "outputId": "b2aebace-d2e6-4366-9863-21c9a91de69c"
      },
      "execution_count": 152,
      "outputs": [
        {
          "output_type": "stream",
          "name": "stdout",
          "text": [
            "['bought', 'bought', 'pop', 'maker.', 'pop', 'embellishing', 'well,', \"wasn't\", 'hard', 'figure', 'out,', 'either.', \"i'd\", 'save', 'money', 'spend', 'instead', 'extra', 'pop', 'sticks,', 'disappear', 'way', 'socks', 'do.', \"didn't\", 'care', 'cakes', 'all.', 'normal', 'standing', 'wilton', 'yearbooks', 'past.', 'buy', 'wilton', 'magazine', 'money', 'ideas', 'instructions', 'investment.', 'bag', 'tore', '-', 'caught', 'corner', 'small', 'cracker', 'box', 'that.', 'machine', 'exactly', 'says', '-', 'speller.', 'wanted', 'definitions,', 'oh,', 'dictionary', 'ordered', 'dictionary', 'happy', '-', 'voice', 'scratchy.', 'type', 'wrong', 'word', 'in,', '34might34', 'produce', 'correct', 'word.', \"doesn't\", 'explanation', 'meaning', 'used.', 'sent', 'bk.', ',', 'factored', 'cost', 'return', 'shipping', '-', \"wasn't\", 'worth', 'return.', \"it's\", 'basically', 'coat', 'hanger', 'plastic', 'guides.', 'thing', 'going', 'portability.', 'hold', 'regular', 'sized', 'hard', 'covered', 'books.', 'forget', 'size', 'paperback,', 'work.', 'hard', 'cover', 'books', 'nearly', 'impossible', 'align', 'correctly', 'slip', 'slump', 'kinds', 'odd', 'positions.', 'tried', '10', 'textbooks', \"didn't\", 'them.', 'home', 'reading', \"i'm\", 'going', 'buy', 'suggest', 'buy', 'substantial', 'stand.', 'quality', 'product', 'low,', 'paint', 'uneven', 'cup', 'cheeped.', 'true', '34teaspoon34', 'size', 'spoons.', 'flatware', 'knife', 'cutting', 'power', 'butter', 'knife', 'it.', 'however,', 'price', 'paid,', \"can't\", 'expect', 'else.', 'pretty', 'stylish', 'glance', \"you're\", 'looking', 'requires', 'durable', 'utensil,', \"isn't\", 'want.', 'look', 'carefully', 'fork', 'knife,', 'shaped', 'differently', 'regular', 'set.', 'fork', 'bends', 'pretty', 'easily']\n"
          ]
        }
      ]
    }
  ]
}