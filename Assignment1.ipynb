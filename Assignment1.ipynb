{
  "nbformat": 4,
  "nbformat_minor": 0,
  "metadata": {
    "colab": {
      "name": "Assignment1.ipynb",
      "provenance": [],
      "collapsed_sections": [],
      "authorship_tag": "ABX9TyPHkyt1J57jqkgTD+bnDWtt",
      "include_colab_link": true
    },
    "kernelspec": {
      "name": "python3",
      "display_name": "Python 3"
    },
    "language_info": {
      "name": "python"
    }
  },
  "cells": [
    {
      "cell_type": "markdown",
      "metadata": {
        "id": "view-in-github",
        "colab_type": "text"
      },
      "source": [
        "<a href=\"https://colab.research.google.com/github/m2qaderi/msci-nlp-w22/blob/master/Assignment1.ipynb\" target=\"_parent\"><img src=\"https://colab.research.google.com/assets/colab-badge.svg\" alt=\"Open In Colab\"/></a>"
      ]
    },
    {
      "cell_type": "code",
      "source": [
        "from google.colab import drive\n",
        "\n",
        "drive.mount(\"/content/gdrive\")"
      ],
      "metadata": {
        "colab": {
          "base_uri": "https://localhost:8080/"
        },
        "id": "1fZYzO_UYVPf",
        "outputId": "af9e38b1-eb0c-4160-c811-b0303fdf36fe"
      },
      "execution_count": 80,
      "outputs": [
        {
          "output_type": "stream",
          "name": "stdout",
          "text": [
            "Drive already mounted at /content/gdrive; to attempt to forcibly remount, call drive.mount(\"/content/gdrive\", force_remount=True).\n"
          ]
        }
      ]
    },
    {
      "cell_type": "code",
      "source": [
        "import gensim as gensim\n",
        "import keras as keras\n",
        "import numpy as numpy\n",
        "import sklearn as sklearn\n",
        "import pandas as pd\n",
        "import re"
      ],
      "metadata": {
        "id": "vqvNIs0BLmqm"
      },
      "execution_count": 113,
      "outputs": []
    },
    {
      "cell_type": "code",
      "source": [
        "with open(\"/content/gdrive/MyDrive/neg.txt\") as f: \n",
        "  text = f.read()"
      ],
      "metadata": {
        "id": "akEW5x3OipL0"
      },
      "execution_count": 114,
      "outputs": []
    },
    {
      "cell_type": "code",
      "source": [
        "x = text.split(\" \")"
      ],
      "metadata": {
        "id": "yalPpsRli0VY"
      },
      "execution_count": 115,
      "outputs": []
    },
    {
      "cell_type": "code",
      "source": [
        "#print(text.split())"
      ],
      "metadata": {
        "id": "zLLPoPaeV7VX"
      },
      "execution_count": 109,
      "outputs": []
    },
    {
      "cell_type": "code",
      "source": [
        "#text = \"hey th~!ere ~ i % love # mgte\"\n",
        "\n",
        "new_string = re.sub('[!\"#$%&()*+/:;<=>@[\\\\]^`{|}~\\t\\n]', '', text)\n",
        "print(new_string.split(\" \")[0:100])"
      ],
      "metadata": {
        "colab": {
          "base_uri": "https://localhost:8080/"
        },
        "id": "RrHg7qdHU8Bj",
        "outputId": "14bbe13f-a239-4361-c2a7-61ba3299a121"
      },
      "execution_count": 121,
      "outputs": [
        {
          "output_type": "stream",
          "name": "stdout",
          "text": [
            "['I', 'bought', 'this', 'when', 'I', 'bought', 'the', 'pop', 'maker.As', 'for', 'pop', 'embellishing', 'well,', 'that', \"wasn't\", 'too', 'hard', 'to', 'figure', 'out,', \"either.I'd\", 'save', 'the', 'money', 'and', 'spend', 'it', 'instead', 'on', 'extra', 'pop', 'sticks,', 'which', 'seem', 'to', 'disappear', 'the', 'way', 'socks', \"do.didn't\", 'really', 'care', 'many', 'of', 'the', 'cakes', 'at', 'all.not', 'up', 'to', 'normal', 'standing', 'for', 'wilton', 'yearbooks', 'of', 'the', 'past.Buy', 'a', 'Wilton', 'magazine', 'for', 'less', 'money', 'and', 'get', 'more', 'ideas', 'and', 'instructions', 'for', 'your', 'investment.Bag', 'tore', 'with', 'almost', 'nothing', 'in', 'it', '-', 'Just', 'caught', 'the', 'corner', 'of', 'a', 'small', 'cracker', 'box', 'and', 'that', 'was', 'that.This', 'machine', 'is', 'exactly', 'what', 'the', 'name', 'says']\n"
          ]
        }
      ]
    }
  ]
}