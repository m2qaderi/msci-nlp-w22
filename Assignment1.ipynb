{
  "nbformat": 4,
  "nbformat_minor": 0,
  "metadata": {
    "colab": {
      "name": "Assignment1.ipynb",
      "provenance": [],
      "collapsed_sections": [],
      "authorship_tag": "ABX9TyOi3ewnhnHLuzFzRi0Hdv4B",
      "include_colab_link": true
    },
    "kernelspec": {
      "name": "python3",
      "display_name": "Python 3"
    },
    "language_info": {
      "name": "python"
    }
  },
  "cells": [
    {
      "cell_type": "markdown",
      "metadata": {
        "id": "view-in-github",
        "colab_type": "text"
      },
      "source": [
        "<a href=\"https://colab.research.google.com/github/m2qaderi/msci-nlp-w22/blob/master/Assignment1.ipynb\" target=\"_parent\"><img src=\"https://colab.research.google.com/assets/colab-badge.svg\" alt=\"Open In Colab\"/></a>"
      ]
    },
    {
      "cell_type": "code",
      "source": [
        "from google.colab import drive\n",
        "\n",
        "drive.mount(\"/content/gdrive\")"
      ],
      "metadata": {
        "colab": {
          "base_uri": "https://localhost:8080/"
        },
        "id": "1fZYzO_UYVPf",
        "outputId": "1f510019-02d6-4d71-af38-45be149d519e"
      },
      "execution_count": 1,
      "outputs": [
        {
          "output_type": "stream",
          "name": "stdout",
          "text": [
            "Mounted at /content/gdrive\n"
          ]
        }
      ]
    },
    {
      "cell_type": "code",
      "source": [
        "import gensim as gensim\n",
        "import keras as keras\n",
        "import numpy as numpy\n",
        "import sklearn as sklearn\n",
        "\n",
        "import re\n",
        "import random\n",
        "from google.colab import files"
      ],
      "metadata": {
        "id": "vqvNIs0BLmqm"
      },
      "execution_count": 2,
      "outputs": []
    },
    {
      "cell_type": "code",
      "source": [
        "with open(\"/content/gdrive/MyDrive/neg.txt\") as f: \n",
        "  text = f.readlines()"
      ],
      "metadata": {
        "id": "akEW5x3OipL0"
      },
      "execution_count": 3,
      "outputs": []
    },
    {
      "cell_type": "code",
      "source": [
        "# Removing special characters\n",
        "new_string = [re.sub('[!\"#$%&()*+/:;<=>@,[\\\\]^`{|}~\\t\\n\\-]', '', string) for string in text]\n",
        "\n",
        "# Tockenizing with stop words\n",
        "split_list =[i.split(\" \") for i in new_string]\n",
        "print(split_list[1:100])\n",
        "\n",
        "# Converting list to string\n",
        "listToString = '\\r\\n'.join(map(str, split_list)) + '\\r\\n'\n",
        "new_string2 = re.sub('[\\']', '', listToString)\n",
        "print(new_string2[1:1000])\n",
        "\n",
        "# Exporting as csv file\n",
        "out = open(\"out.csv\", \"w\")\n",
        "for element in new_string2:\n",
        "    out.write(element)\n",
        "out.close()\n"
      ],
      "metadata": {
        "colab": {
          "base_uri": "https://localhost:8080/"
        },
        "id": "yalPpsRli0VY",
        "outputId": "f543d378-3657-4c82-cb1a-a048db4cae0f"
      },
      "execution_count": 4,
      "outputs": [
        {
          "output_type": "stream",
          "name": "stdout",
          "text": [
            "[['As', 'for', 'pop', 'embellishing', 'well', 'that', \"wasn't\", 'too', 'hard', 'to', 'figure', 'out', 'either.'], [\"I'd\", 'save', 'the', 'money', 'and', 'spend', 'it', 'instead', 'on', 'extra', 'pop', 'sticks', 'which', 'seem', 'to', 'disappear', 'the', 'way', 'socks', 'do.'], [\"didn't\", 'really', 'care', 'many', 'of', 'the', 'cakes', 'at', 'all.'], ['not', 'up', 'to', 'normal', 'standing', 'for', 'wilton', 'yearbooks', 'of', 'the', 'past.'], ['Buy', 'a', 'Wilton', 'magazine', 'for', 'less', 'money', 'and', 'get', 'more', 'ideas', 'and', 'instructions', 'for', 'your', 'investment.'], ['Bag', 'tore', 'with', 'almost', 'nothing', 'in', 'it', '', 'Just', 'caught', 'the', 'corner', 'of', 'a', 'small', 'cracker', 'box', 'and', 'that', 'was', 'that.'], ['This', 'machine', 'is', 'exactly', 'what', 'the', 'name', 'says', 'it', 'is', '', 'a', 'speller.'], ['I', 'wanted', 'definitions', 'OH', 'that', 'would', 'be', 'a', 'dictionary', 'I', 'ordered', 'a', 'dictionary', 'an', 'I', 'am', 'happy', '', 'except', 'the', 'voice', 'is', 'scratchy.'], ['If', 'you', 'type', 'the', 'wrong', 'word', 'in', 'it', '34might34', 'produce', 'the', 'correct', 'word.'], ['It', \"doesn't\", 'give', 'any', 'explanation', 'of', 'the', 'meaning', 'or', 'how', 'it', 'can', 'be', 'used.'], ['I', 'should', 'have', 'sent', 'it', 'bk.', 'but', 'I', 'factored', 'in', 'the', 'cost', 'of', 'return', 'shipping', '', \"wasn't\", 'worth', 'the', 'return.'], [\"It's\", 'basically', 'just', 'a', 'coat', 'hanger', 'with', 'two', 'plastic', 'guides.'], ['The', 'only', 'thing', 'it', 'has', 'going', 'for', 'it', 'is', 'portability.'], ['It', 'can', 'only', 'hold', 'regular', 'sized', 'hard', 'covered', 'books.'], ['Forget', 'about', 'any', 'size', 'paperback', 'it', 'will', 'not', 'work.'], ['Even', 'hard', 'cover', 'books', 'are', 'nearly', 'impossible', 'to', 'align', 'correctly', 'and', 'they', 'slip', 'and', 'slump', 'in', 'all', 'kinds', 'of', 'odd', 'positions.'], ['I', 'tried', 'with', 'over', '10', 'textbooks', 'and', 'it', \"didn't\", 'do', 'well', 'with', 'any', 'of', 'them.'], ['For', 'home', 'reading', \"I'm\", 'going', 'to', 'buy', 'and', 'suggest', 'you', 'buy', 'a', 'more', 'substantial', 'stand.'], ['The', 'quality', 'of', 'the', 'product', 'is', 'low', 'the', 'paint', 'is', 'uneven', 'and', 'the', 'bottom', 'of', 'the', 'cup', 'is', 'cheeped.'], ['Neither', 'of', 'them', 'are', 'true', '34teaspoon34', 'size', 'spoons.'], ['The', 'flatware', 'is', 'very', 'thin', 'so', 'the', 'knife', 'really', 'has', 'no', 'cutting', 'power', 'even', 'for', 'a', 'butter', 'knife', 'behind', 'it.'], ['HOWEVER', 'for', 'the', 'price', 'I', 'paid', 'I', \"can't\", 'expect', 'anything', 'else.'], ['They', 'are', 'pretty', 'stylish', 'at', 'a', 'glance', 'but', 'if', \"you're\", 'looking', 'to', 'do', 'anything', 'that', 'requires', 'a', 'durable', 'utensil', 'this', \"isn't\", 'the', 'one', 'you', 'want.'], ['Also', 'look', 'carefully', 'at', 'the', 'fork', 'and', 'knife', 'they', 'are', 'shaped', 'quite', 'differently', 'than', 'a', 'regular', 'set.'], ['The', 'fork', 'also', 'bends', 'pretty', 'easily', 'which', 'is', 'not', 'good', 'when', 'trying', 'to', 'eat', 'a', 'steak.'], ['The', 'spoons', 'are', 'also', 'very', 'disproportionate', 'if', 'you', 'look', 'at', 'the', 'little', 'spoon', 'it', 'is', 'way', 'smaller', 'than', 'it', 'appears', 'in', 'the', 'picture.'], ['I', 'hate', 'to', 'say', 'it', 'but', 'I', 'was', 'not', 'impressed', 'with', 'Ikea', 'in', 'this', 'case.'], ['I', 'had', 'to', 'buy', 'a', 'whole', 'new', 'set', 'to', 'replace', 'this', 'one.'], ['While', 'this', 'is', 'a', 'cute', 'tin', 'box', 'and', 'I', 'used', 'it', 'to', 'hold', 'minimuffins', 'at', 'at', 'baby', 'shower', 'it', \"isn't\", 'meant', 'to', 'be', 'used.'], ['Would', 'look', 'cute', 'as', 'a', 'decoration', 'in', 'a', \"baby's\", 'room', 'or', 'to', 'hold', 'all', 'those', \"crayon's\", 'for', 'an', 'older', 'child.'], ['Tried', 'onions', 'tomatoes', 'celery', 'olives', 'nuts', 'and', 'many', 'other', 'items.', '', 'Tried', '2', '4', 'and', '8oz', 'loads.'], ['but', 'who', 'needs', 'that?This', 'will', 'be', 'the', 'last', 'Cuisinart', 'product', \"I'll\", 'buy', 'their', 'griddler', 'blender', 'and', 'ice', 'cream', 'maker', 'are', 'poorly', 'engineered', 'too.'], ['This', 'is', 'okay', 'for', 'chopping', 'cilantro', 'but', 'does', 'not', 'puree', 'very', 'well.'], ['I', 'my', 'mind', 'it', 'does', 'not', 'live', 'up', 'to', 'the', 'Cuisinart', 'name.'], ['My', 'original', 'mini', 'prep', 'had', 'a', 'sharp', 'blade', 'not', 'a', 'serrated', 'blade.'], ['I', 'got', 'years', 'of', 'use', 'out', 'of', 'it', 'and', 'I', \"wouldn't\", 'have', 'replaced', 'it', 'but', 'my', 'husband', 'mistakenly', 'through', 'the', 'lid', 'out', 'in', 'the', 'trash.'], ['This', 'one', 'is', 'only', 'so', 'so', 'and', 'food', 'gets', 'caught', 'in', 'the', 'teeth', 'of', 'the', 'serrated', 'blade.'], ['This', 'was', 'a', 'replacement', 'for', 'a', 'Krupps', 'processor', 'and', 'I', 'only', 'used', 'it', '3', 'times.'], ['I', 'had', 'to', 'buy', 'a', 'Phillips', 'to', 'replace', 'it.'], [\"It's\", 'so', 'small', 'of', 'course', 'and', \"it's\", 'really', 'only', 'good', 'for', 'nuts.'], ['I', 'have', 'Black', '', 'Decker', 'that', 'does', 'a', 'better', 'job.'], ['My', 'big', 'Cuisinart', 'broke', 'so', 'I', 'thought', 'for', 'a', 'small', 'size', 'it', 'would', 'be', 'good.'], ['Did', 'not', 'even', 'crush', 'wet', 'beans', 'or', 'move', 'it', 'to', 'the', 'top', 'as', 'said.'], ['It', 'was', 'to', 'late', 'for', 'me', 'to', 'return', 'it.'], ['This', 'is', 'my', 'very', 'first', 'mini', 'processor', 'i', 'was', 'so', 'excited', 'to', 'get', 'it', 'for', 'making', 'baby', 'puree.'], ['Its', 'a', 'good', 'size', 'for', 'that', 'purposesmall', 'enough', 'i', 'can', 'leave', 'it', 'on', 'the', 'counter', 'top.'], ['However', 'i', 'am', 'disappointed', 'after', 'my', 'first', 'try.'], ['i', 'dont', 'know', 'what', 'im', 'doing', 'wrong', 'if', 'anyone', 'has', 'any', 'suggestions', '', 'feel', 'free', 'to', 'help', 'me', 'out.'], ['Well', 'it', 'worked', 'for', '10', 'seconds', 'and', 'then', 'died.'], ['The', 'blade', 'mechanism', 'on', 'this', 'chopper', 'is', 'extremely', 'difficult', 'to', 'remove', 'or', 'adjust.'], ['I', \"can't\", 'imagine', 'how', 'someone', 'with', 'large', 'fingers', 'would', 'manage.'], [\"There's\", 'nothing', 'I', 'can', 'do', 'in', 'this', 'thing', 'that', 'I', \"can't\", 'do', 'better', 'and', 'more', 'easily', 'with', 'my', 'handheld', 'blender.'], ['Save', 'your', 'money', 'AND', 'your', 'fingers', '', 'Steer', 'clear', 'of', 'this', 'thing.'], ['I', 'bought', 'both', 'and', 'the', 'Cusinart', 'turned', 'an', 'onion', 'into', 'mush.'], ['When', 'i', 'tried', 'to', 'just', 'pulse', 'it', 'the', 'pieces', 'were', 'very', 'inconsistant', 'so', 'I', 'pulsed', 'a', 'littlemore', 'and', 'it', 'turned', 'it', 'to', 'mush.'], ['I', 'had', 'to', 'chop', 'garlic', 'the', 'Ninja', 'chopped', 'it', 'up', 'perfectly.'], ['Its', 'more', 'money', 'than', 'the', 'mini', 'cusinart', 'but', 'its', 'a', 'muchbetter', 'unit.'], ['This', 'thing', 'will', 'likely', 'liquify', 'them', 'too....not', 'a', 'great', 'product.'], ['I', 'got', 'one', 'about', '2', 'or', '3', 'weeks', 'ago', 'and', \"I'm\", 'sending', 'it', 'back.'], ['I', 'have', 'put', 'no', 'more', 'than', '12', 'cup', 'at', 'a', 'time', 'of', 'nuts', 'pieces', 'of', 'cut', 'up', 'carrots', 'etc.'], ['I', 'had', 'read', 'a', 'review', 'that', 'said', 'the', 'Cuisinart', 'was', 'as', 'good', 'as', 'the', 'KitchenAid', 'mini.'], ['it', 'leaked', 'out', 'in', 'drops', 'thrown', 'all', 'around', 'the', 'processor', 'on', 'the', 'counter.'], ['And', 'yes', 'the', 'top', 'was', 'on', 'correctly', 'and', 'the', 'chopping', 'blade', 'was', 'on', 'properly.'], ['So', 'when', 'you', 'read', 'a', 'review', 'that', 'sounds', 'like', 'a', 'paid', 'ad', 'for', 'the', 'product.'], ['which', 'was', 'not', 'disclosed', 'on', 'the', 'technical', 'information.'], ['Unwilling', 'to', 'give', 'up', 'in', 'spite', 'of', 'failed', 'attempts', 'I', 'added', 'my', 'berries', 'and', 'applesauce.'], ['The', 'wide', 'shortened', 'new', 'shape', 'looks', 'great', 'but', 'somehow', \"doesn't\", 'work', 'as', 'well', 'as', 'the', 'narrow', 'original', 'shape', 'of', 'the', 'blending', 'jars.'], ['I', 'was', 'very', 'disappointed', 'in', 'the', 'blender', 'but', 'more', 'in', 'Cusinart', 'a', 'brand', 'I', 'have', 'trusted', 'for', 'years', 'who', 'makes', 'the', 'best', 'food', 'processor', 'imaginable.'], [\"I'm\", 'refurbishing', 'my', 'Waring', 'blender', 'with', 'new', 'parts', 'at', 'least', 'I', 'know', 'it', 'works', 'well.'], ['For', 'this', 'money', 'I', \"didn't\", 'expect', 'the', 'glue', 'under', 'the', 'button', 'names', 'to', 'peel', 'up', 'within', 'a', 'week.'], ['and', 'I', 'certainly', \"didn't\", 'expect', 'the', 'base', 'to', 'cause', 'messy', 'leaks', 'despite', 'repeatedly', 'replacing', 'the', 'gaskets.'], ['And', 'now', 'after', 'less', 'than', 'two', 'years', 'the', 'motor', 'has', 'burned', 'out', 'Shame', 'on', 'you', 'Cuisinart.'], ['Then', 'they', 'started', 'manufacturing', 'this', 'mess', 'that', 'they', 'call', 'a', 'blender.'], ['There', 'is', 'now', 'a', 'black', 'residue', 'around', 'the', 'black', 'whirly', 'thing', 'on', 'the', 'base.'], ['Cuisinart', 'take', 'noteI', 'AM', 'NOT', 'BUYING', 'CUISINART', 'PRODUCTS', 'AGAIN.'], ['I', 'would', 'venture', 'to', 'guess', 'others', 'feel', 'the', 'same.'], [\"I'm\", 'happy', 'that', 'some', 'folks', 'had', 'a', 'good', 'experience', 'with', 'this', 'blender', 'but', 'I', 'am', 'not', 'one', 'of', 'them.'], ['First', 'of', 'all', 'my', 'unit', 'was', 'factory', 'refurbished', 'so', 'had', 'no', 'warranty.'], ['It', 'smoked', 'on', 'the', 'first', 'use', 'and', 'died', 'on', 'the', 'second.'], ['I', 'ordered', 'an', 'oster', 'blender', 'and', \"it's\", 'been', 'working', 'fine', 'ever', 'since.'], ['two', 'or', 'three', 'years', 'never', 'a', 'problem.But', 'I', \"won't\", 'stop', 'there.'], [\"I'm\", 'an', 'electrical', 'engineer', 'and', 'have', 'been', 'involved', 'with', 'designing', 'and', 'building', 'all', 'sorts', 'of', 'things', 'through', 'my', 'life.'], ['but', 'this', 'takes', 'the', 'cake', 'for', 'poor', 'design', 'and', 'unsafe', 'practices.'], ['The', 'motor', 'is', 'mounted', 'using', 'a', 'paper', 'not', 'plastic', 'not', 'cardboard', 'tube', 'that', 'fits', 'into', 'a', 'plastic', 'ridge', 'at', 'the', 'top.'], ['it', \"won't\", 'pour', 'without', 'slopping', 'down', 'the', 'front', 'and', 'all', 'over', 'the', 'table.This', 'is', 'junk', 'and', 'shame', 'shame', 'on', 'you', 'cuisinart.'], [\"I'm\", 'sure', 'they', 'bought', 'it', 'from', 'someone', 'else', 'because', 'they', 'would', 'NEVER', 'have', 'designed', 'something', 'this', 'badly.'], ['It', 'works', 'great', 'at', 'crushing', 'ice', 'and', 'other', 'items.'], ['Works', 'to', 'chop', 'up', 'and', 'blend', 'items', 'but', 'the', 'motor', 'noise', 'alone', 'has', 'forced', 'me', 'to', 'stop', 'using', 'it.'], ['With', 'each', 'use', 'the', 'noise', 'is', 'louder', 'and', 'so', 'irritating.'], ['I', 'am', 'extremely', 'disappointed', 'that', 'I', \"can't\", 'use', 'the', 'processor', 'portion', 'of', 'it.'], ['As', 'much', 'as', 'I', 'love', 'the', 'blender', 'I', \"can't\", 'recommend', 'the', 'purchase', 'because', 'you', \"won't\", 'be', 'able', 'to', 'use', 'the', 'processor', 'without', 'ear', 'plugs.'], ['This', 'blender', 'sucks', 'It', 'does', 'not', 'work', '', 'Everything', 'just', 'sits', 'there', 'and', 'I', 'have', 'to', 'use', 'a', 'spoon', 'every', 'few', 'seconds', 'to', 'mix', 'it', 'up.'], ['DO', 'NOT', 'BUY', 'THIS', 'BLENDER', 'It', 'will', 'save', 'you', 'time', 'and', 'a', 'headache', 'you', 'if', 'buy', 'a', 'different', 'one.'], [\"i've\", 'been', 'disappointed', 'in', 'this', 'brand', 'name', 'before', 'but', 'this', 'unblender', 'surpasses', 'even', 'their', 'worst.'], ['This', 'blender', 'replaced', 'a', 'Sunbeam', 'I', 'had', 'for', '30', 'years.'], ['The', 'jar', 'is', 'oversized', 'and', 'supported', 'by', 'small', 'blades', 'placed', 'in', 'a', 'small', 'opening', 'at', 'the', 'base', 'of', 'vessel', 'isolated', 'from', 'the', 'mass', 'inside.'], ['After', 'operating', 'the', 'motor', 'for', 'more', 'than', 'a', 'few', 'moments', 'it', 'begins', 'to', 'emit', 'a', 'strong', 'burning', 'smell.'], ['The', 'plastic', 'drive', 'assembly', 'for', 'the', 'blades', 'snapped', 'off', 'in', 'the', 'first', 'week', 'of', 'use.'], ['I', 'would', 'not', 'recommend', 'this', 'blender', 'there', 'are', 'better', 'choices.']]\n",
            "I, bought, this, when, I, bought, the, pop, maker.]\r\n",
            "[As, for, pop, embellishing, well, that, \"wasnt\", too, hard, to, figure, out, either.]\r\n",
            "[\"Id\", save, the, money, and, spend, it, instead, on, extra, pop, sticks, which, seem, to, disappear, the, way, socks, do.]\r\n",
            "[\"didnt\", really, care, many, of, the, cakes, at, all.]\r\n",
            "[not, up, to, normal, standing, for, wilton, yearbooks, of, the, past.]\r\n",
            "[Buy, a, Wilton, magazine, for, less, money, and, get, more, ideas, and, instructions, for, your, investment.]\r\n",
            "[Bag, tore, with, almost, nothing, in, it, , Just, caught, the, corner, of, a, small, cracker, box, and, that, was, that.]\r\n",
            "[This, machine, is, exactly, what, the, name, says, it, is, , a, speller.]\r\n",
            "[I, wanted, definitions, OH, that, would, be, a, dictionary, I, ordered, a, dictionary, an, I, am, happy, , except, the, voice, is, scratchy.]\r\n",
            "[If, you, type, the, wrong, word, in, it, 34might34, produce, the, correct, word.]\r\n",
            "[It, \"doesnt\", give, any, explanation, of, the, meaning, or, ho\n"
          ]
        }
      ]
    },
    {
      "cell_type": "code",
      "source": [
        "# Splitting data into train test and validation sets\n",
        "\n",
        "import sklearn.model_selection\n",
        "\n",
        "new_string3 = new_string2.replace(\"]\", '')\n",
        "new_string4 = new_string3.replace(\"[\", '')\n",
        "print(new_string4[0:100])\n",
        "\n",
        "a = list(new_string4.split(\" \"))\n",
        "b = random.shuffle(a)\n",
        "train_dataset, test_dataset = sklearn.model_selection.train_test_split(a, train_size=.8, test_size=.2)\n",
        "test2_dataset, valid_dataset = sklearn.model_selection.train_test_split(test_dataset, train_size=.5, test_size=.5)\n",
        "\n",
        "\n",
        "print(train_dataset[0:100])\n",
        "print(len(train_dataset))\n",
        "\n",
        "print(test2_dataset[0:100])\n",
        "print(len(test2_dataset))\n",
        "\n",
        "print(valid_dataset[0:100])\n",
        "print(len(valid_dataset))\n",
        "\n",
        "train = open(\"train.csv\", \"w\")\n",
        "for element in train_dataset:\n",
        "    train.write(element + \" \")\n",
        "train.close()\n",
        "\n",
        "test = open(\"test.csv\", \"w\")\n",
        "for element in test2_dataset:\n",
        "    test.write(element + \" \")\n",
        "test.close()\n",
        "\n",
        "val = open(\"val.csv\", \"w\")\n",
        "for element in valid_dataset:\n",
        "    val.write(element + \" \")\n",
        "val.close()"
      ],
      "metadata": {
        "colab": {
          "base_uri": "https://localhost:8080/"
        },
        "id": "OFLv0FgvTAYU",
        "outputId": "2d6bcfb0-cf8a-411a-d229-78ec9aedd35b"
      },
      "execution_count": 5,
      "outputs": [
        {
          "output_type": "stream",
          "name": "stdout",
          "text": [
            "I, bought, this, when, I, bought, the, pop, maker.\r\n",
            "As, for, pop, embellishing, well, that, \"wasnt\",\n",
            "['minute,', 'grills,', 'boring,', 'time,', 'loading,', 'the,', 'were,', 'the,', 'this,', 'zinc,', 'fit,', 'as,', 'down.\\r\\nThat,', 'a,', 'one.\\r\\n\"Its\",', 'so,', 'not,', 'mean,', 'the,', 'at,', 'spout,', 'me,', 'comfortable,', 'which,', 'too,', 'clean,', 'new,', 'the,', 'is,', 'IT,', 'people,', 'liked,', 'remote,', 'a,', 'rain,', 'did,', ',', 'already,', 'returned,', 'they,', 'product,', 'little,', 'henchmanAI,', 'kids,', 'bad,', 'Mega,', 'of,', 'this,', 'hardware.\\r\\nI,', ',', 'happened.\\r\\nThey,', 'opinions.\\r\\n\"Ive\",', 'store,', 'then,', 'my,', 'computer,', 'polarizing,', 'a,', 'all,', 'also,', 'the,', 'it,', 'pricey.\\r\\nJust,', 'the,', 'receive,', 'is,', 'in,', 'with,', 'works,', 'Barnyard,', 'minutes,', 'the,', 'returning,', 'in,', 'to,', '\"didnt\",', 'cans,', 'are,', 'water,', 'help,', 'control.\\r\\nThe,', '\"its\",', 'the,', 'of,', 'but,', 'and,', 'expecting.\\r\\nSadly,', 'like,', 'me,', 'game.\\r\\nyou,', '\"wed\",', 'tried,', 'have,', 'cheap.\\r\\nHe,', 'told,', 'aliens,', 'any,', 'apart,', 'product.\\r\\nI,', 'support,']\n",
            "4541803\n",
            "['off,', 'could,', 'checking,', 'of,', 'advertised,', 'a,', 'Bastexwireless.\\r\\nGot,', '1,', 'keep,', 'to,', 'bend,', 'reviews,', 'just,', 'war,', 'and,', 'for,', 'this,', 'issues,', 'sure,', 'kept,', 'was,', '\"couldve\",', 'food,', 'grind,', 'recommend,', 'you,', 'CAR15,', 'her,', 'even,', 'handle,', 'I,', 'two,', 'really,', 'SLOW.\\r\\nNot,', 'these,', 'Dymo,', 'day,', 'price,', 'after,', 'to,', 'West,', 'cashews,', 'the,', 'out,', 'the,', 'want,', 'to,', 'glaze,', 'no,', 'my,', 'less,', 'on,', 'Doh,', 'intended.\\r\\nI,', 'as,', 'also,', 'pen,', 'costs,', 'the,', 'how,', 'went,', 'still,', 'found,', '\"doesnt\",', 'alive.\\r\\nI,', 'strong,', 'below,', 'killing,', 'of,', 'I,', 'with,', 'against,', 'fighting,', 'make,', 'should,', 'Copter,', 'very,', 'too,', 'several,', 'lump,', 'is,', 'and,', 'dungeons.\\r\\nYou,', 'real,', '\"dont\",', 'copy,', 'good,', 'toy.\\r\\nWe,', 'to,', 'make,', 'speaker,', 'and,', 'bottle,', 'stud.Terrible,', ',', 'most,', 'use,', 'anyone,', 'male,', 'Faced,']\n",
            "567725\n",
            "['used,', 'my,', 'not,', 'to,', 'a,', 'bought,', '110,', 'would,', 'with,', 'she,', 'that,', 'and,', 'keep,', 'its,', 'fact,', 'a,', 'the,', 'a,', 'obvious.\\r\\nA,', 'but,', 'negaiting,', 'effectively,', 'I,', 'soon,', 'is,', 'cool,', 'started,', 'my,', 'though,', 'plain,', 'a,', 'and,', 'not,', 'of,', 'item.\\r\\nThat,', 'to,', 'to,', 'rough,', 'year.\\r\\nThe,', 'my,', 'is,', 'was,', 'of,', 'about,', 'the,', 'my,', 'the,', 'different,', 'using,', 'reading,', 'you,', 'my,', 'to,', 'to,', 'certificates.\\r\\nThese,', 'always,', 'happens.\\r\\nToday,', 'me,', 'and,', 'be,', 'time,', 'of,', 'than,', 'miserable.\\r\\nI,', 'is,', 'case.\\r\\nNeither,', 'when,', 'you,', 'will,', 'she,', 'a,', 'dynamis,', 'to,', 'is,', 'pad,', 'so,', 'JUNK,', 'in,', 'love,', 'the,', 'drinker,', 'decided,', 'decline,', 'this,', 'is,', 'it,', 'me,', 'and,', 'wants,', 'the,', 'and,', 'concern.\\r\\nI,', 'contacted,', 'a,', 'them,', 'keep,', 'one,', 'you,', 'cans.\\r\\n\"Im\",', 'chocolates,']\n",
            "567726\n"
          ]
        }
      ]
    },
    {
      "cell_type": "code",
      "source": [
        "with open(\"/content/gdrive/MyDrive/neg.txt\") as f: \n",
        "  text2 = f.read()\n",
        "\n",
        "# Removing stopwords\n",
        "from gensim.parsing.preprocessing import remove_stopwords\n",
        "\n",
        "lowercase = text2.lower()\n",
        "filtered_text = remove_stopwords(lowercase)\n",
        "print(filtered_text[0:100])\n",
        "\n",
        "ns = open(\"no_stopwords.csv\", \"w\")\n",
        "for element in filtered_text:\n",
        "    ns.write(element)\n",
        "ns.close()"
      ],
      "metadata": {
        "colab": {
          "base_uri": "https://localhost:8080/"
        },
        "id": "zqSkCHDfbuaW",
        "outputId": "b8afd141-3771-4ea7-8f69-a9a2a3d0db4c"
      },
      "execution_count": 24,
      "outputs": [
        {
          "output_type": "stream",
          "name": "stdout",
          "text": [
            "bought bought pop maker. \"pop embellishing\" well, wasn't hard figure out, either. i'd save money spe\n"
          ]
        }
      ]
    },
    {
      "cell_type": "code",
      "source": [
        "with open(\"/content/no_stopwords.csv\") as f: \n",
        "  text3 = f.readlines()"
      ],
      "metadata": {
        "id": "_jnrJY9gb3SJ"
      },
      "execution_count": 25,
      "outputs": []
    },
    {
      "cell_type": "code",
      "source": [
        "# Removing special characters\n",
        "new_string5 = [re.sub('[!\"#$%&()*+/:;<=>@,[\\\\]^`{|}~\\t\\n\\-]', '', string) for string in text3]\n",
        "\n",
        "# Tockenizing with stop words\n",
        "split_list2 =[i.split(\" \") for i in new_string5]\n",
        "print(split_list2[1:100])\n",
        "\n",
        "# Converting list to string\n",
        "listToString2 = '\\r\\n'.join(map(str, split_list2))\n",
        "new_string6 = re.sub('[\\']', '', listToString2)\n",
        "new_string7 = new_string6.replace(\".\", '\\n')\n",
        "print(new_string7[1:1000])\n",
        "\n",
        "# Exporting as csv file\n",
        "out_ns = open(\"out_ns.csv\", \"w\")\n",
        "for element in new_string7:\n",
        "    out_ns.write(element)\n",
        "out_ns.close()"
      ],
      "metadata": {
        "colab": {
          "base_uri": "https://localhost:8080/"
        },
        "id": "nGJ_eeeHcKH2",
        "outputId": "240b1938-5dfb-4d8d-aeda-0c474c989fc3"
      },
      "execution_count": 27,
      "outputs": [
        {
          "output_type": "stream",
          "name": "stdout",
          "text": [
            "[]\n",
            "bought, bought, pop, maker\n",
            ", pop, embellishing, well, \"wasnt\", hard, figure, out, either\n",
            ", \"id\", save, money, spend, instead, extra, pop, sticks, disappear, way, socks, do\n",
            ", \"didnt\", care, cakes, all\n",
            ", normal, standing, wilton, yearbooks, past\n",
            ", buy, wilton, magazine, money, ideas, instructions, investment\n",
            ", bag, tore, , caught, corner, small, cracker, box, that\n",
            ", machine, exactly, says, , speller\n",
            ", wanted, definitions, oh, dictionary, ordered, dictionary, happy, , voice, scratchy\n",
            ", type, wrong, word, in, 34might34, produce, correct, word\n",
            ", \"doesnt\", explanation, meaning, used\n",
            ", sent, bk\n",
            ", factored, cost, return, shipping, , \"wasnt\", worth, return\n",
            ", \"its\", basically, coat, hanger, plastic, guides\n",
            ", thing, going, portability\n",
            ", hold, regular, sized, hard, covered, books\n",
            ", forget, size, paperback, work\n",
            ", hard, cover, books, nearly, impossible, align, correctly, slip, slump, kinds, odd, positions\n",
            ", tried, 10, textbooks, \"didnt\", them\n",
            ", home, reading, \"im\", going, buy, suggest, buy, substa\n"
          ]
        }
      ]
    },
    {
      "cell_type": "code",
      "source": [
        "# Splitting data into train test and validation sets\n",
        "\n",
        "import sklearn.model_selection\n",
        "\n",
        "c = list(new_string7.split(\" \"))\n",
        "d = random.shuffle(c)\n",
        "train_dataset_ns, test_dataset_ns = sklearn.model_selection.train_test_split(a, train_size=.8, test_size=.2)\n",
        "test2_dataset_ns, valid_dataset_ns = sklearn.model_selection.train_test_split(test_dataset_ns, train_size=.5, test_size=.5)\n",
        "\n",
        "\n",
        "print(train_dataset_ns[0:100])\n",
        "print(len(train_dataset_ns))\n",
        "\n",
        "print(test2_dataset_ns[0:100])\n",
        "print(len(test2_dataset_ns))\n",
        "\n",
        "print(valid_dataset_ns[0:100])\n",
        "print(len(valid_dataset_ns))\n",
        "\n",
        "train_ns = open(\"train_ns.csv\", \"w\")\n",
        "for element in train_dataset_ns:\n",
        "    train_ns.write(element + \" \")\n",
        "train_ns.close()\n",
        "\n",
        "test_ns = open(\"test_ns.csv\", \"w\")\n",
        "for element in test2_dataset_ns:\n",
        "    test_ns.write(element + \" \")\n",
        "test_ns.close()\n",
        "\n",
        "val_ns = open(\"val_ns.csv\", \"w\")\n",
        "for element in valid_dataset_ns:\n",
        "    val_ns.write(element + \" \")\n",
        "val_ns.close()"
      ],
      "metadata": {
        "colab": {
          "base_uri": "https://localhost:8080/"
        },
        "id": "QAVllf9hjSuk",
        "outputId": "f986e805-9f99-4248-da51-38f358f6e1ce"
      },
      "execution_count": 31,
      "outputs": [
        {
          "output_type": "stream",
          "name": "stdout",
          "text": [
            "['dead,', 'does,', 'same,', 'buying.\\r\\nBelieve,', 'is,', 'Game.\\r\\nFor,', 'it,', 'I,', 'the,', 'taking,', 'was,', 'way.I,', 'at,', 'a,', 'I,', 'cant.\\r\\nThe,', 'more,', 'on,', 'where,', 'purchase,', 'from,', 'dismantled,', 'house,', 'thought,', 'not,', 'assemble,', 'purchased,', 'shows,', 'if,', 'to,', 'I,', 'type,', 'other,', 'you,', 'juice,', 'in,', 'major,', 'a,', 'sensitivites,', 'simulated,', 'that,', 'it,', '7,', 'trusted,', 'it,', 'more,', 'pages,', 'and,', 'growth,', 'cups,', 'they,', 'connection,', 'wrist,', 'most,', 'not,', 'a,', 'fans,', 'than,', 'many,', 'sends,', 'pair,', 'more,', 'come,', 'with,', 'entering,', 'these,', 'on,', 'also,', 'I,', 'whatever,', 'of,', 'them,', 'for,', 'am,', 'comfortable.\\r\\nI,', ',', 'as,', 'a,', '2,', 'greyhound,', 'but,', 'better,', 'eat,', 'of,', 'lose,', 'from,', 'to,', 'everything,', 'had,', 'was,', 'for,', 'longer,', 'you,', 'only,', 'an,', 'would,', 'months.\\r\\nThe,', 'once,', 'weeks,', 'cat,']\n",
            "4541803\n",
            "['other,', 'wearing,', '5060,', 'for,', 'wait,', 'I,', 'a,', 'sound,', 'and,', 'this,', 'product,', 'good,', 'instant,', 'pain,', 'able,', 'ended,', 'them.\\r\\nHardly,', 'elbow,', 'me,', 'insulated,', 'Christmas,', 'how,', 'gold,', 'closer,', 'amount,', 'operated,', 'garlic.\\r\\nI,', 'siding,', 'head,', 'milk,', 'I,', 'not,', 'Hair,', 'disolve,', 'two,', 'a,', 'on,', 'had,', 'as,', 'canned,', 'on,', 'held,', 'of,', 'like,', 'breaks.\\r\\nMy,', 'cheap,', 'I,', '\"youre\",', 'in,', 'developer.\\r\\nCaveat,', 'one,', 'NPCs,', 'a,', 'into,', 'be,', 'to,', 'in.\\r\\nBut,', 'good,', 'honestly,', 'but,', 'shape.\\r\\nStone,', 'over,', 'same,', 'most,', 'drive,', 'like,', 'of,', 'cell,', 'used,', 'any,', 'well.\\r\\nThe,', 'slow,', 'assembly,', 'and,', 'to,', 'few,', 'to,', 'it,', 'forward,', 'raw,', 'been,', 'working,', 'high,', 'indicator,', 'the,', 'to,', 'the,', 'a,', 'skin,', 'white,', 'turn,', 'use,', 'of,', 'an,', 'the,', 'had,', 'to,', 'taste.\\r\\nI,', 'and,', 'much,']\n",
            "567725\n",
            "['to,', 'elsewhere,', 'to,', 'made,', 'game.\\r\\nbut,', 'money,', 'is,', 'way.\\r\\nThis,', 'and,', 'board,', 'tried,', 'I,', 'anyone,', 'to,', 'not,', 'that,', 'to,', 'no,', '4,', 'found,', 'I,', 'does,', 'worth,', '\"Ill\",', 'an,', 'Innotek,', 'the,', 'about.\\r\\nAnd,', 'it,', 'calm,', 'with,', 'it,', 'extremely,', 'was,', 'nice,', 'and,', 'when,', 'pleasure,', 'of,', 'the,', 'in,', 'all,', 'both,', 'on,', 'of,', 'like,', 'in,', 'months,', 'bananas.\\r\\nIt,', 'have,', 'and,', 'NO,', 'am,', 'that,', 'her.\\r\\nNow,', 'to,', 'but,', 'week,', 'so,', 'they,', 'speakers.\\r\\nWhen,', 'far,', 'thing,', 'frustrating.\\r\\nWish,', 'as,', 'far,', 'like,', 'item,', 'more,', 'want,', 'takes,', '\"wont\",', 'years,', 'cutting,', 'want,', 'just,', 'have,', 'refills,', 'one,', '\"thats\",', 'the,', ',', 'back,', 'scale,', 'and,', 'octave.\\r\\nThe,', 'use.\\r\\nYou,', '\"dont\",', 'off.\\r\\nShe,', 'mattress.\\r\\nNevertheless,', 'not,', 'has,', 'could,', 'than,', 'brushes,', 'to,', 'poor.\\r\\nI,', 'my,', 'called,', 'easily,']\n",
            "567726\n"
          ]
        }
      ]
    }
  ]
}